{
  "nbformat": 4,
  "nbformat_minor": 0,
  "metadata": {
    "colab": {
      "provenance": [],
      "authorship_tag": "ABX9TyOiZufE5Cr4d06Lyp+TnKnN",
      "include_colab_link": true
    },
    "kernelspec": {
      "name": "python3",
      "display_name": "Python 3"
    },
    "language_info": {
      "name": "python"
    }
  },
  "cells": [
    {
      "cell_type": "markdown",
      "metadata": {
        "id": "view-in-github",
        "colab_type": "text"
      },
      "source": [
        "<a href=\"https://colab.research.google.com/github/lintangea/Mini-Dataset-NLP-Automatic-Grading-Lintang/blob/main/Automatic%20Grading.ipynb\" target=\"_parent\"><img src=\"https://colab.research.google.com/assets/colab-badge.svg\" alt=\"Open In Colab\"/></a>"
      ]
    },
    {
      "cell_type": "markdown",
      "source": [
        "**Proses Import Library yang Diperlukan**"
      ],
      "metadata": {
        "id": "cKES9s7s5Lka"
      }
    },
    {
      "cell_type": "code",
      "execution_count": 2,
      "metadata": {
        "colab": {
          "base_uri": "https://localhost:8080/"
        },
        "id": "jiM5C-uG4NXy",
        "outputId": "47898999-488e-4915-c38c-b2de548fd4cb"
      },
      "outputs": [
        {
          "output_type": "stream",
          "name": "stderr",
          "text": [
            "[nltk_data] Downloading package wordnet to /root/nltk_data...\n",
            "[nltk_data]   Package wordnet is already up-to-date!\n"
          ]
        }
      ],
      "source": [
        "#Import Library Pandas dan Google Colab Drive\n",
        "import pandas as pd\n",
        "import re\n",
        "from google.colab import drive\n",
        "\n",
        "#Import tokenisasi\n",
        "import nltk\n",
        "from nltk.tokenize import word_tokenize\n",
        "\n",
        "# Import stopwords dari NLTK\n",
        "from nltk.corpus import stopwords\n",
        "\n",
        "# Unduh WordNet Lemmatizer\n",
        "nltk.download('wordnet')\n",
        "# Import WordNetLemmatizer dari NLTK\n",
        "from nltk.stem import WordNetLemmatizer\n",
        "\n",
        "#Import untuk Visualisasi Grafik\n",
        "import matplotlib.pyplot as plt\n",
        "\n",
        "# Import Counter dari collections\n",
        "from collections import Counter\n",
        "\n",
        "# Import TfidfVectorizer dari scikit-learn\n",
        "from sklearn.feature_extraction.text import TfidfVectorizer\n",
        "\n",
        "# Import library untuk NER\n",
        "import spacy"
      ]
    },
    {
      "cell_type": "code",
      "source": [
        "# Mount Google Drive (Menghubungkan akses Google Drive)\n",
        "drive.mount('/content/drive')"
      ],
      "metadata": {
        "colab": {
          "base_uri": "https://localhost:8080/"
        },
        "id": "5OU6N2VN5fF2",
        "outputId": "d8dc5d1e-5656-4626-ebfc-e30dadd21572"
      },
      "execution_count": 3,
      "outputs": [
        {
          "output_type": "stream",
          "name": "stdout",
          "text": [
            "Mounted at /content/drive\n"
          ]
        }
      ]
    },
    {
      "cell_type": "markdown",
      "source": [
        "**Menghapus Duplikat Judul**"
      ],
      "metadata": {
        "id": "ggpecRe05UUQ"
      }
    },
    {
      "cell_type": "code",
      "source": [
        "# Path ke file CSV\n",
        "file_path = '/content/drive/My Drive/S2/NLP/data1.csv'\n",
        "\n",
        "# Membaca file CSV\n",
        "data = pd.read_csv(file_path)\n",
        "\n",
        "# Menampilkan data sebelum penghapusan duplikat\n",
        "print(\"Data sebelum penghapusan duplikat:\")\n",
        "print(data)\n",
        "\n",
        "# Menghapus duplikat berdasarkan kolom 'primary_title' dan mempertahankan urutan\n",
        "cleaned_data = data.drop_duplicates(subset='primary_title', keep='first')\n",
        "\n",
        "# Menampilkan data setelah penghapusan duplikat\n",
        "print(\"\\nData setelah penghapusan duplikat:\")\n",
        "print(cleaned_data)"
      ],
      "metadata": {
        "colab": {
          "base_uri": "https://localhost:8080/"
        },
        "id": "4OcY1M1P5zpL",
        "outputId": "5ae1c12e-5601-4edc-c81c-b4e345aaaa65"
      },
      "execution_count": null,
      "outputs": [
        {
          "output_type": "stream",
          "name": "stdout",
          "text": [
            "Data sebelum penghapusan duplikat:\n",
            "                                         primary_title\n",
            "0     Assessment in the age of artificial intelligence\n",
            "1    Graduate instructors navigating the AI frontie...\n",
            "2    Application of generative artificial intellige...\n",
            "3    Machine learning based feedback on textual stu...\n",
            "4    Automated scholarly paper review: Concepts, te...\n",
            "..                                                 ...\n",
            "293  Auto-Scoring Student Responses with Images in ...\n",
            "294  Upper-Elementary Students' Metacognitive Knowl...\n",
            "295  Artificial Intelligence in Educational Assessm...\n",
            "296  Statewide Implementation of Automated Writing ...\n",
            "297  Bridging Human and Machine Scoring in Experime...\n",
            "\n",
            "[298 rows x 1 columns]\n",
            "\n",
            "Data setelah penghapusan duplikat:\n",
            "                                         primary_title\n",
            "0     Assessment in the age of artificial intelligence\n",
            "1    Graduate instructors navigating the AI frontie...\n",
            "2    Application of generative artificial intellige...\n",
            "3    Machine learning based feedback on textual stu...\n",
            "4    Automated scholarly paper review: Concepts, te...\n",
            "..                                                 ...\n",
            "293  Auto-Scoring Student Responses with Images in ...\n",
            "294  Upper-Elementary Students' Metacognitive Knowl...\n",
            "295  Artificial Intelligence in Educational Assessm...\n",
            "296  Statewide Implementation of Automated Writing ...\n",
            "297  Bridging Human and Machine Scoring in Experime...\n",
            "\n",
            "[235 rows x 1 columns]\n"
          ]
        }
      ]
    },
    {
      "cell_type": "markdown",
      "source": [
        "**Tahap Preprocessing Parsing**"
      ],
      "metadata": {
        "id": "vOqXeRRx5q62"
      }
    },
    {
      "cell_type": "code",
      "source": [
        "# Fungsi untuk preprocessing judul\n",
        "def preprocess_title(title):\n",
        "    if pd.isna(title):  # Cek jika title adalah NaN\n",
        "        return ''\n",
        "    # Mengubah menjadi huruf kecil\n",
        "    title = title.lower()\n",
        "    # Menghapus spasi ekstra\n",
        "    title = ' '.join(title.split())\n",
        "    # Menghilangkan tanda baca\n",
        "    title = re.sub(r'[^\\w\\s]', '', title)\n",
        "\n",
        "    return title\n",
        "\n",
        "# Menerapkan preprocessing pada kolom 'primary_title'\n",
        "cleaned_data['primary_title'] = cleaned_data['primary_title'].apply(preprocess_title)\n",
        "\n",
        "# Menampilkan data setelah parsing\n",
        "print(\"\\nData setelah proses parsing:\")\n",
        "print(cleaned_data)"
      ],
      "metadata": {
        "colab": {
          "base_uri": "https://localhost:8080/"
        },
        "id": "b7CR-1Ql5-y1",
        "outputId": "5b2336c6-252e-4f83-9fab-0a6f43ba241f"
      },
      "execution_count": null,
      "outputs": [
        {
          "output_type": "stream",
          "name": "stdout",
          "text": [
            "\n",
            "Data setelah proses parsing:\n",
            "                                         primary_title\n",
            "0     assessment in the age of artificial intelligence\n",
            "1    graduate instructors navigating the ai frontie...\n",
            "2    application of generative artificial intellige...\n",
            "3    machine learning based feedback on textual stu...\n",
            "4    automated scholarly paper review concepts tech...\n",
            "..                                                 ...\n",
            "293  autoscoring student responses with images in m...\n",
            "294  upperelementary students metacognitive knowled...\n",
            "295  artificial intelligence in educational assessm...\n",
            "296  statewide implementation of automated writing ...\n",
            "297  bridging human and machine scoring in experime...\n",
            "\n",
            "[235 rows x 1 columns]\n"
          ]
        },
        {
          "output_type": "stream",
          "name": "stderr",
          "text": [
            "<ipython-input-33-25426ce74517>:15: SettingWithCopyWarning: \n",
            "A value is trying to be set on a copy of a slice from a DataFrame.\n",
            "Try using .loc[row_indexer,col_indexer] = value instead\n",
            "\n",
            "See the caveats in the documentation: https://pandas.pydata.org/pandas-docs/stable/user_guide/indexing.html#returning-a-view-versus-a-copy\n",
            "  cleaned_data['primary_title'] = cleaned_data['primary_title'].apply(preprocess_title)\n"
          ]
        }
      ]
    },
    {
      "cell_type": "markdown",
      "source": [
        "**Tahap Preprocessing Filtering Keyword**"
      ],
      "metadata": {
        "id": "oN4gZRXm53az"
      }
    },
    {
      "cell_type": "code",
      "source": [
        "# Daftar kata kunci yang akan dicari\n",
        "keywords = [\n",
        "    'Automated',\n",
        "    'Essay',\n",
        "    'Transformers',\n",
        "    'Natural Language Processing',\n",
        "    'automatic',\n",
        "    'scoring',\n",
        "    'NLP',\n",
        "    'assessment',\n",
        "    'evaluation'\n",
        "]\n",
        "\n",
        "# Fungsi untuk memeriksa apakah ada kata kunci dalam judul\n",
        "def contains_keywords(title):\n",
        "    # Menggunakan regex untuk mencocokkan kata kunci\n",
        "    pattern = '|'.join(keywords)  # Menggabungkan kata kunci menjadi satu pola\n",
        "    return bool(re.search(pattern, title, re.IGNORECASE))  # Mengabaikan kapitalisasi\n",
        "\n",
        "# Memfilter data berdasarkan kolom 'primary_title'\n",
        "filtered_data = cleaned_data[cleaned_data['primary_title'].apply(contains_keywords)]\n",
        "\n",
        "# Menampilkan data setelah filter keyword\n",
        "print(\"\\nData setelah proses filter keyword:\")\n",
        "print(filtered_data)"
      ],
      "metadata": {
        "colab": {
          "base_uri": "https://localhost:8080/"
        },
        "id": "SjfSyVGiAwUA",
        "outputId": "0b50befd-daff-4e65-fecf-0342794cf0ca"
      },
      "execution_count": null,
      "outputs": [
        {
          "output_type": "stream",
          "name": "stdout",
          "text": [
            "\n",
            "Data setelah proses filter keyword:\n",
            "                                         primary_title\n",
            "0     assessment in the age of artificial intelligence\n",
            "4    automated scholarly paper review concepts tech...\n",
            "5    detecting chatgptgenerated essays in a largesc...\n",
            "7    large language models and automated essay scor...\n",
            "10   a multifaceted architecture to automate essay ...\n",
            "..                                                 ...\n",
            "292  a fairness evaluation of automated methods for...\n",
            "293  autoscoring student responses with images in m...\n",
            "295  artificial intelligence in educational assessm...\n",
            "296  statewide implementation of automated writing ...\n",
            "297  bridging human and machine scoring in experime...\n",
            "\n",
            "[118 rows x 1 columns]\n"
          ]
        }
      ]
    },
    {
      "cell_type": "markdown",
      "source": [
        "**Tahap Preprocessing Tokenisasi**"
      ],
      "metadata": {
        "id": "RfvJ8NHx6JUF"
      }
    },
    {
      "cell_type": "code",
      "source": [
        "# Menginstal library NLTK (Natural Language Toolkit) untuk Tokenisasi\n",
        "!pip install nltk\n"
      ],
      "metadata": {
        "colab": {
          "base_uri": "https://localhost:8080/"
        },
        "id": "fiKzjbPL7W1l",
        "outputId": "660f06f4-8c53-4da3-baa2-e9cdf5490856"
      },
      "execution_count": null,
      "outputs": [
        {
          "output_type": "stream",
          "name": "stdout",
          "text": [
            "Requirement already satisfied: nltk in /usr/local/lib/python3.11/dist-packages (3.9.1)\n",
            "Requirement already satisfied: click in /usr/local/lib/python3.11/dist-packages (from nltk) (8.1.8)\n",
            "Requirement already satisfied: joblib in /usr/local/lib/python3.11/dist-packages (from nltk) (1.4.2)\n",
            "Requirement already satisfied: regex>=2021.8.3 in /usr/local/lib/python3.11/dist-packages (from nltk) (2024.11.6)\n",
            "Requirement already satisfied: tqdm in /usr/local/lib/python3.11/dist-packages (from nltk) (4.67.1)\n"
          ]
        }
      ]
    },
    {
      "cell_type": "code",
      "source": [
        "# Mengunduh model tokenizer yang digunakan untuk memecah teks menjadi kalimat atau kata.\n",
        "nltk.download('punkt')\n",
        "nltk.download('punkt_tab')"
      ],
      "metadata": {
        "colab": {
          "base_uri": "https://localhost:8080/"
        },
        "id": "qps4tuXU9jEg",
        "outputId": "e6bd6990-8fd6-4b79-fa11-141146f85d79"
      },
      "execution_count": null,
      "outputs": [
        {
          "output_type": "stream",
          "name": "stderr",
          "text": [
            "[nltk_data] Downloading package punkt to /root/nltk_data...\n",
            "[nltk_data]   Package punkt is already up-to-date!\n",
            "[nltk_data] Downloading package punkt_tab to /root/nltk_data...\n",
            "[nltk_data]   Unzipping tokenizers/punkt_tab.zip.\n"
          ]
        },
        {
          "output_type": "execute_result",
          "data": {
            "text/plain": [
              "True"
            ]
          },
          "metadata": {},
          "execution_count": 55
        }
      ]
    },
    {
      "cell_type": "code",
      "source": [
        "# Fungsi untuk melakukan tokenisasi pada judul\n",
        "def tokenize_title(title):\n",
        "    if pd.isna(title):  # Cek jika title adalah NaN\n",
        "        return []\n",
        "    # Tokenisasi judul\n",
        "    tokens = word_tokenize(title)\n",
        "    return tokens\n",
        "\n",
        "# Menerapkan tokenisasi pada kolom 'primary_title'\n",
        "filtered_data['tokens'] = filtered_data['primary_title'].apply(tokenize_title)\n",
        "\n",
        "# Menampilkan data setelah tokenisasi\n",
        "print(\"\\nData setelah proses tokenisasi:\")\n",
        "print(filtered_data)"
      ],
      "metadata": {
        "colab": {
          "base_uri": "https://localhost:8080/"
        },
        "id": "vAsQqAfBDGBb",
        "outputId": "18985b0a-2521-4e69-d850-1a0647153bc3"
      },
      "execution_count": null,
      "outputs": [
        {
          "output_type": "stream",
          "name": "stdout",
          "text": [
            "\n",
            "Data setelah proses tokenisasi:\n",
            "                                         primary_title  \\\n",
            "0     assessment in the age of artificial intelligence   \n",
            "4    automated scholarly paper review concepts tech...   \n",
            "5    detecting chatgptgenerated essays in a largesc...   \n",
            "7    large language models and automated essay scor...   \n",
            "10   a multifaceted architecture to automate essay ...   \n",
            "..                                                 ...   \n",
            "292  a fairness evaluation of automated methods for...   \n",
            "293  autoscoring student responses with images in m...   \n",
            "295  artificial intelligence in educational assessm...   \n",
            "296  statewide implementation of automated writing ...   \n",
            "297  bridging human and machine scoring in experime...   \n",
            "\n",
            "                                                tokens  \n",
            "0    [assessment, in, the, age, of, artificial, int...  \n",
            "4    [automated, scholarly, paper, review, concepts...  \n",
            "5    [detecting, chatgptgenerated, essays, in, a, l...  \n",
            "7    [large, language, models, and, automated, essa...  \n",
            "10   [a, multifaceted, architecture, to, automate, ...  \n",
            "..                                                 ...  \n",
            "292  [a, fairness, evaluation, of, automated, metho...  \n",
            "293  [autoscoring, student, responses, with, images...  \n",
            "295  [artificial, intelligence, in, educational, as...  \n",
            "296  [statewide, implementation, of, automated, wri...  \n",
            "297  [bridging, human, and, machine, scoring, in, e...  \n",
            "\n",
            "[118 rows x 2 columns]\n"
          ]
        },
        {
          "output_type": "stream",
          "name": "stderr",
          "text": [
            "<ipython-input-56-e0afc6355f6d>:13: SettingWithCopyWarning: \n",
            "A value is trying to be set on a copy of a slice from a DataFrame.\n",
            "Try using .loc[row_indexer,col_indexer] = value instead\n",
            "\n",
            "See the caveats in the documentation: https://pandas.pydata.org/pandas-docs/stable/user_guide/indexing.html#returning-a-view-versus-a-copy\n",
            "  filtered_data['tokens'] = filtered_data['primary_title'].apply(tokenize_title)\n"
          ]
        }
      ]
    },
    {
      "cell_type": "markdown",
      "source": [
        "**Tahap Preprocessing Stopwords**"
      ],
      "metadata": {
        "id": "KB2F3ghj6oz8"
      }
    },
    {
      "cell_type": "code",
      "source": [
        "# Unduh stopwords NLTK\n",
        "nltk.download('stopwords')\n",
        "\n",
        "# Mendapatkan daftar stopwords dalam bahasa Inggris\n",
        "stop_words = set(stopwords.words('english'))\n"
      ],
      "metadata": {
        "colab": {
          "base_uri": "https://localhost:8080/"
        },
        "id": "9cCY8i1JFF1G",
        "outputId": "1ce3ba4d-dfa6-4b84-95da-a9cf2e4b371f"
      },
      "execution_count": null,
      "outputs": [
        {
          "output_type": "stream",
          "name": "stderr",
          "text": [
            "[nltk_data] Downloading package stopwords to /root/nltk_data...\n",
            "[nltk_data]   Package stopwords is already up-to-date!\n"
          ]
        }
      ]
    },
    {
      "cell_type": "code",
      "source": [
        "# Fungsi untuk menghapus stopwords\n",
        "def remove_stopwords(tokens):\n",
        "    return [word for word in tokens if word not in stop_words]"
      ],
      "metadata": {
        "id": "xIWEwS6ZLlXf"
      },
      "execution_count": null,
      "outputs": []
    },
    {
      "cell_type": "code",
      "source": [
        "# Menerapkan stopword removal pada kolom 'tokens'\n",
        "filtered_data['filtered_tokens'] = filtered_data['tokens'].apply(remove_stopwords)\n",
        "\n",
        "# Menampilkan data setelah stopword removal\n",
        "print(\"\\nData setelah proses stopword removal:\")\n",
        "print(filtered_data[['primary_title', 'filtered_tokens']])"
      ],
      "metadata": {
        "colab": {
          "base_uri": "https://localhost:8080/"
        },
        "id": "BMXYpH42Lpg7",
        "outputId": "e23af378-2477-4e09-de73-183bbbf99de4"
      },
      "execution_count": null,
      "outputs": [
        {
          "output_type": "stream",
          "name": "stdout",
          "text": [
            "\n",
            "Data setelah proses stopword removal:\n",
            "                                         primary_title  \\\n",
            "0     assessment in the age of artificial intelligence   \n",
            "4    automated scholarly paper review concepts tech...   \n",
            "5    detecting chatgptgenerated essays in a largesc...   \n",
            "7    large language models and automated essay scor...   \n",
            "10   a multifaceted architecture to automate essay ...   \n",
            "..                                                 ...   \n",
            "292  a fairness evaluation of automated methods for...   \n",
            "293  autoscoring student responses with images in m...   \n",
            "295  artificial intelligence in educational assessm...   \n",
            "296  statewide implementation of automated writing ...   \n",
            "297  bridging human and machine scoring in experime...   \n",
            "\n",
            "                                       filtered_tokens  \n",
            "0          [assessment, age, artificial, intelligence]  \n",
            "4    [automated, scholarly, paper, review, concepts...  \n",
            "5    [detecting, chatgptgenerated, essays, largesca...  \n",
            "7    [large, language, models, automated, essay, sc...  \n",
            "10   [multifaceted, architecture, automate, essay, ...  \n",
            "..                                                 ...  \n",
            "292  [fairness, evaluation, automated, methods, sco...  \n",
            "293  [autoscoring, student, responses, images, math...  \n",
            "295  [artificial, intelligence, educational, assess...  \n",
            "296  [statewide, implementation, automated, writing...  \n",
            "297  [bridging, human, machine, scoring, experiment...  \n",
            "\n",
            "[118 rows x 2 columns]\n"
          ]
        },
        {
          "output_type": "stream",
          "name": "stderr",
          "text": [
            "<ipython-input-60-5eb99d4a4923>:2: SettingWithCopyWarning: \n",
            "A value is trying to be set on a copy of a slice from a DataFrame.\n",
            "Try using .loc[row_indexer,col_indexer] = value instead\n",
            "\n",
            "See the caveats in the documentation: https://pandas.pydata.org/pandas-docs/stable/user_guide/indexing.html#returning-a-view-versus-a-copy\n",
            "  filtered_data['filtered_tokens'] = filtered_data['tokens'].apply(remove_stopwords)\n"
          ]
        }
      ]
    },
    {
      "cell_type": "markdown",
      "source": [
        "**Tahap Preprocessing Lemmatization**"
      ],
      "metadata": {
        "id": "CW9DoRq06zwI"
      }
    },
    {
      "cell_type": "code",
      "source": [
        "# Inisialisasi lemmatizer\n",
        "lemmatizer = WordNetLemmatizer()"
      ],
      "metadata": {
        "colab": {
          "base_uri": "https://localhost:8080/"
        },
        "id": "pZSWCR4tMEE8",
        "outputId": "6b3694a0-bc43-477a-bc42-c0a889239bc4"
      },
      "execution_count": null,
      "outputs": [
        {
          "output_type": "stream",
          "name": "stderr",
          "text": [
            "[nltk_data] Downloading package wordnet to /root/nltk_data...\n"
          ]
        }
      ]
    },
    {
      "cell_type": "code",
      "source": [
        "# Fungsi untuk lemmatization\n",
        "def lemmatize_tokens(tokens):\n",
        "    return [lemmatizer.lemmatize(word) for word in tokens]"
      ],
      "metadata": {
        "id": "8TZLyojBNLtL"
      },
      "execution_count": null,
      "outputs": []
    },
    {
      "cell_type": "code",
      "source": [
        "filtered_data['lemmatized_tokens'] = filtered_data['filtered_tokens'].apply(lemmatize_tokens)"
      ],
      "metadata": {
        "colab": {
          "base_uri": "https://localhost:8080/"
        },
        "id": "M7wApkG3NMsX",
        "outputId": "fea1a4a2-5b20-4fcf-f870-ed962ca9c22a"
      },
      "execution_count": null,
      "outputs": [
        {
          "output_type": "stream",
          "name": "stderr",
          "text": [
            "<ipython-input-63-0db1a6fd44d7>:1: SettingWithCopyWarning: \n",
            "A value is trying to be set on a copy of a slice from a DataFrame.\n",
            "Try using .loc[row_indexer,col_indexer] = value instead\n",
            "\n",
            "See the caveats in the documentation: https://pandas.pydata.org/pandas-docs/stable/user_guide/indexing.html#returning-a-view-versus-a-copy\n",
            "  filtered_data['lemmatized_tokens'] = filtered_data['filtered_tokens'].apply(lemmatize_tokens)\n"
          ]
        }
      ]
    },
    {
      "cell_type": "code",
      "source": [
        "# Memunculkan hasil lemmatization\n",
        "print(\"\\nData setelah proses lemmatization:\")\n",
        "print(filtered_data[['primary_title', 'lemmatized_tokens']])"
      ],
      "metadata": {
        "colab": {
          "base_uri": "https://localhost:8080/"
        },
        "id": "SMmecxccNSV3",
        "outputId": "c03001a7-a7f0-43ad-eecc-1aa4aa514c3c"
      },
      "execution_count": null,
      "outputs": [
        {
          "output_type": "stream",
          "name": "stdout",
          "text": [
            "\n",
            "Data setelah proses lemmatization:\n",
            "                                         primary_title  \\\n",
            "0     assessment in the age of artificial intelligence   \n",
            "4    automated scholarly paper review concepts tech...   \n",
            "5    detecting chatgptgenerated essays in a largesc...   \n",
            "7    large language models and automated essay scor...   \n",
            "10   a multifaceted architecture to automate essay ...   \n",
            "..                                                 ...   \n",
            "292  a fairness evaluation of automated methods for...   \n",
            "293  autoscoring student responses with images in m...   \n",
            "295  artificial intelligence in educational assessm...   \n",
            "296  statewide implementation of automated writing ...   \n",
            "297  bridging human and machine scoring in experime...   \n",
            "\n",
            "                                     lemmatized_tokens  \n",
            "0          [assessment, age, artificial, intelligence]  \n",
            "4    [automated, scholarly, paper, review, concept,...  \n",
            "5    [detecting, chatgptgenerated, essay, largescal...  \n",
            "7    [large, language, model, automated, essay, sco...  \n",
            "10   [multifaceted, architecture, automate, essay, ...  \n",
            "..                                                 ...  \n",
            "292  [fairness, evaluation, automated, method, scor...  \n",
            "293  [autoscoring, student, response, image, mathem...  \n",
            "295  [artificial, intelligence, educational, assess...  \n",
            "296  [statewide, implementation, automated, writing...  \n",
            "297  [bridging, human, machine, scoring, experiment...  \n",
            "\n",
            "[118 rows x 2 columns]\n"
          ]
        }
      ]
    },
    {
      "cell_type": "markdown",
      "source": [
        "**Pembobotan dengan TF-IDF**"
      ],
      "metadata": {
        "id": "gAwdwivtN1Jb"
      }
    },
    {
      "cell_type": "code",
      "source": [
        "# Menggabungkan lemmatized tokens menjadi string\n",
        "# Kita perlu menggabungkan token menjadi string untuk TF-IDF\n",
        "filtered_data['lemmatized_text'] = filtered_data['lemmatized_tokens'].apply(lambda x: ' '.join(x))\n",
        "\n",
        "# Menerapkan TF-IDF\n",
        "tfidf_vectorizer = TfidfVectorizer()\n",
        "tfidf_matrix = tfidf_vectorizer.fit_transform(filtered_data['lemmatized_text'])\n",
        "\n",
        "# Mengubah hasil TF-IDF menjadi DataFrame untuk kemudahan pembacaan\n",
        "tfidf_df = pd.DataFrame(tfidf_matrix.toarray(), columns=tfidf_vectorizer.get_feature_names_out())\n",
        "\n",
        "# Menampilkan hasil TF-IDF\n",
        "print(\"\\nHasil pembobotan TF-IDF:\")\n",
        "print(tfidf_df)\n"
      ],
      "metadata": {
        "colab": {
          "base_uri": "https://localhost:8080/"
        },
        "id": "B2LBgTDaN4iJ",
        "outputId": "b785d15c-9762-44a8-9c36-04508b235574"
      },
      "execution_count": null,
      "outputs": [
        {
          "output_type": "stream",
          "name": "stdout",
          "text": [
            "\n",
            "Hasil pembobotan TF-IDF:\n",
            "      10  2019  2301   40       411  aaee  ability  academic  accuracy  \\\n",
            "0    0.0   0.0   0.0  0.0  0.000000   0.0      0.0       0.0       0.0   \n",
            "1    0.0   0.0   0.0  0.0  0.000000   0.0      0.0       0.0       0.0   \n",
            "2    0.0   0.0   0.0  0.0  0.000000   0.0      0.0       0.0       0.0   \n",
            "3    0.0   0.0   0.0  0.0  0.000000   0.0      0.0       0.0       0.0   \n",
            "4    0.0   0.0   0.0  0.0  0.000000   0.0      0.0       0.0       0.0   \n",
            "..   ...   ...   ...  ...       ...   ...      ...       ...       ...   \n",
            "113  0.0   0.0   0.0  0.0  0.000000   0.0      0.0       0.0       0.0   \n",
            "114  0.0   0.0   0.0  0.0  0.000000   0.0      0.0       0.0       0.0   \n",
            "115  0.0   0.0   0.0  0.0  0.000000   0.0      0.0       0.0       0.0   \n",
            "116  0.0   0.0   0.0  0.0  0.318701   0.0      0.0       0.0       0.0   \n",
            "117  0.0   0.0   0.0  0.0  0.000000   0.0      0.0       0.0       0.0   \n",
            "\n",
            "     acquisition  ...  verb  voice  weak  weighted  word  wrightrightnow  \\\n",
            "0            0.0  ...   0.0    0.0   0.0       0.0   0.0             0.0   \n",
            "1            0.0  ...   0.0    0.0   0.0       0.0   0.0             0.0   \n",
            "2            0.0  ...   0.0    0.0   0.0       0.0   0.0             0.0   \n",
            "3            0.0  ...   0.0    0.0   0.0       0.0   0.0             0.0   \n",
            "4            0.0  ...   0.0    0.0   0.0       0.0   0.0             0.0   \n",
            "..           ...  ...   ...    ...   ...       ...   ...             ...   \n",
            "113          0.0  ...   0.0    0.0   0.0       0.0   0.0             0.0   \n",
            "114          0.0  ...   0.0    0.0   0.0       0.0   0.0             0.0   \n",
            "115          0.0  ...   0.0    0.0   0.0       0.0   0.0             0.0   \n",
            "116          0.0  ...   0.0    0.0   0.0       0.0   0.0             0.0   \n",
            "117          0.0  ...   0.0    0.0   0.0       0.0   0.0             0.0   \n",
            "\n",
            "     writer   writing  written  young  \n",
            "0       0.0  0.000000      0.0    0.0  \n",
            "1       0.0  0.000000      0.0    0.0  \n",
            "2       0.0  0.194149      0.0    0.0  \n",
            "3       0.0  0.199383      0.0    0.0  \n",
            "4       0.0  0.151170      0.0    0.0  \n",
            "..      ...       ...      ...    ...  \n",
            "113     0.0  0.237111      0.0    0.0  \n",
            "114     0.0  0.000000      0.0    0.0  \n",
            "115     0.0  0.000000      0.0    0.0  \n",
            "116     0.0  0.153330      0.0    0.0  \n",
            "117     0.0  0.149969      0.0    0.0  \n",
            "\n",
            "[118 rows x 468 columns]\n"
          ]
        },
        {
          "output_type": "stream",
          "name": "stderr",
          "text": [
            "<ipython-input-68-4dbaeb4fc941>:6: SettingWithCopyWarning: \n",
            "A value is trying to be set on a copy of a slice from a DataFrame.\n",
            "Try using .loc[row_indexer,col_indexer] = value instead\n",
            "\n",
            "See the caveats in the documentation: https://pandas.pydata.org/pandas-docs/stable/user_guide/indexing.html#returning-a-view-versus-a-copy\n",
            "  filtered_data['lemmatized_text'] = filtered_data['lemmatized_tokens'].apply(lambda x: ' '.join(x))\n"
          ]
        }
      ]
    },
    {
      "cell_type": "code",
      "source": [
        "# Menggabungkan semua bobot TF-IDF dari semua dokumen\n",
        "# Menghitung total bobot TF-IDF untuk setiap kata\n",
        "total_tfidf = tfidf_df.sum(axis=0)\n",
        "\n",
        "# Menampilkan bobot TF-IDF secara keseluruhan, diurutkan dari terbesar ke terkecil\n",
        "sorted_tfidf = total_tfidf.sort_values(ascending=False)\n",
        "\n",
        "# Menampilkan hasil\n",
        "print(\"\\nBobot TF-IDF secara keseluruhan, diurutkan dari terbesar ke terkecil:\")\n",
        "print(sorted_tfidf)"
      ],
      "metadata": {
        "colab": {
          "base_uri": "https://localhost:8080/"
        },
        "id": "-vSYZmvkONjv",
        "outputId": "f37b2711-6123-4c2e-d0e9-dae6b9c1c2d9"
      },
      "execution_count": null,
      "outputs": [
        {
          "output_type": "stream",
          "name": "stdout",
          "text": [
            "\n",
            "Bobot TF-IDF secara keseluruhan, diurutkan dari terbesar ke terkecil:\n",
            "automated       9.292566\n",
            "scoring         8.450848\n",
            "essay           8.341547\n",
            "writing         5.655006\n",
            "assessment      5.416376\n",
            "                  ...   \n",
            "navigating      0.268046\n",
            "augmentation    0.268046\n",
            "frontier        0.268046\n",
            "science         0.268046\n",
            "strategy        0.268046\n",
            "Length: 468, dtype: float64\n"
          ]
        }
      ]
    },
    {
      "cell_type": "markdown",
      "source": [
        "**Frekuensi Kata**"
      ],
      "metadata": {
        "id": "xLaWARkx7e-h"
      }
    },
    {
      "cell_type": "code",
      "source": [
        "#  Menggabungkan semua token dari semua dokumen\n",
        "all_tokens = [token for sublist in filtered_data['lemmatized_tokens'] for token in sublist]\n",
        "\n",
        "# Menghitung frekuensi setiap kata\n",
        "word_frequencies = Counter(all_tokens)\n",
        "\n",
        "# Mengurutkan frekuensi kata dari terbesar ke terkecil\n",
        "sorted_frequencies = word_frequencies.most_common()\n",
        "\n",
        "# Menampilkan hasil frekuensi kata\n",
        "print(\"\\nFrekuensi kata secara keseluruhan, diurutkan dari terbesar ke terkecil:\")\n",
        "for word, freq in sorted_frequencies:\n",
        "    print(f\"{word}: {freq}\")\n"
      ],
      "metadata": {
        "colab": {
          "base_uri": "https://localhost:8080/"
        },
        "id": "o2muQ8p9Q47a",
        "outputId": "494c2665-f5b1-4547-c5f1-160c13115957"
      },
      "execution_count": null,
      "outputs": [
        {
          "output_type": "stream",
          "name": "stdout",
          "text": [
            "\n",
            "Frekuensi kata secara keseluruhan, diurutkan dari terbesar ke terkecil:\n",
            "automated: 63\n",
            "essay: 54\n",
            "scoring: 53\n",
            "writing: 29\n",
            "assessment: 27\n",
            "language: 21\n",
            "learning: 18\n",
            "evaluation: 17\n",
            "using: 16\n",
            "model: 15\n",
            "automatic: 15\n",
            "student: 14\n",
            "system: 12\n",
            "english: 11\n",
            "feedback: 11\n",
            "artificial: 8\n",
            "based: 8\n",
            "text: 8\n",
            "score: 8\n",
            "intelligence: 7\n",
            "validity: 7\n",
            "approach: 7\n",
            "analysis: 7\n",
            "method: 7\n",
            "learner: 6\n",
            "semantic: 6\n",
            "nlp: 6\n",
            "answer: 6\n",
            "natural: 6\n",
            "large: 5\n",
            "human: 5\n",
            "short: 5\n",
            "framework: 5\n",
            "evidence: 5\n",
            "evaluating: 5\n",
            "deep: 5\n",
            "neural: 5\n",
            "network: 5\n",
            "response: 5\n",
            "processing: 5\n",
            "effect: 5\n",
            "similarity: 5\n",
            "bias: 4\n",
            "arabic: 4\n",
            "ai: 4\n",
            "subjective: 4\n",
            "exploring: 4\n",
            "education: 4\n",
            "generation: 4\n",
            "question: 4\n",
            "argument: 4\n",
            "tool: 4\n",
            "test: 4\n",
            "review: 3\n",
            "largescale: 3\n",
            "insight: 3\n",
            "reliability: 3\n",
            "integrating: 3\n",
            "machine: 3\n",
            "algorithm: 3\n",
            "proficiency: 3\n",
            "research: 3\n",
            "argumentative: 3\n",
            "support: 3\n",
            "use: 3\n",
            "written: 3\n",
            "corpus: 3\n",
            "context: 3\n",
            "content: 3\n",
            "online: 3\n",
            "novel: 3\n",
            "performance: 3\n",
            "application: 3\n",
            "comparing: 3\n",
            "quality: 3\n",
            "efl: 3\n",
            "technology: 2\n",
            "challenge: 2\n",
            "nonnative: 2\n",
            "speaker: 2\n",
            "linguistic: 2\n",
            "enhanced: 2\n",
            "multidimensional: 2\n",
            "chatgpt: 2\n",
            "assignment: 2\n",
            "decision: 2\n",
            "investigating: 2\n",
            "potential: 2\n",
            "efficient: 2\n",
            "automatically: 2\n",
            "item: 2\n",
            "intelligent: 2\n",
            "enhancing: 2\n",
            "development: 2\n",
            "higher: 2\n",
            "secondary: 2\n",
            "formative: 2\n",
            "examining: 2\n",
            "grammar: 2\n",
            "revision: 2\n",
            "predictor: 2\n",
            "middle: 2\n",
            "school: 2\n",
            "toward: 2\n",
            "openended: 2\n",
            "optimization: 2\n",
            "personality: 2\n",
            "towards: 2\n",
            "elementary: 2\n",
            "case: 2\n",
            "purpose: 2\n",
            "topic: 2\n",
            "complexity: 2\n",
            "grading: 2\n",
            "rating: 2\n",
            "understanding: 2\n",
            "discourse: 2\n",
            "building: 2\n",
            "feature: 2\n",
            "measure: 2\n",
            "prediction: 2\n",
            "data: 2\n",
            "generative: 2\n",
            "l2: 2\n",
            "error: 2\n",
            "assess: 2\n",
            "educational: 2\n",
            "embedding: 2\n",
            "agreement: 2\n",
            "fairness: 2\n",
            "theory: 2\n",
            "study: 2\n",
            "multitask: 2\n",
            "statewide: 2\n",
            "technique: 2\n",
            "rubric: 2\n",
            "cohmetrix: 2\n",
            "implication: 2\n",
            "usage: 2\n",
            "age: 1\n",
            "scholarly: 1\n",
            "paper: 1\n",
            "concept: 1\n",
            "detecting: 1\n",
            "chatgptgenerated: 1\n",
            "multifaceted: 1\n",
            "architecture: 1\n",
            "automate: 1\n",
            "assessing: 1\n",
            "article: 1\n",
            "thematic: 1\n",
            "representation: 1\n",
            "harnessing: 1\n",
            "llm: 1\n",
            "alignment: 1\n",
            "judgment: 1\n",
            "smes: 1\n",
            "industry: 1\n",
            "40: 1\n",
            "opportunity: 1\n",
            "msim: 1\n",
            "multilevel: 1\n",
            "inference: 1\n",
            "chinese: 1\n",
            "lowresource: 1\n",
            "scenario: 1\n",
            "gan: 1\n",
            "creative: 1\n",
            "recommendation: 1\n",
            "changing: 1\n",
            "know: 1\n",
            "experiment: 1\n",
            "conceptual: 1\n",
            "applying: 1\n",
            "chainofthought: 1\n",
            "humanmachine: 1\n",
            "collaborative: 1\n",
            "sequential: 1\n",
            "threeway: 1\n",
            "arascore: 1\n",
            "responsebased: 1\n",
            "earlystage: 1\n",
            "finetuning: 1\n",
            "enhancement: 1\n",
            "recent: 1\n",
            "build: 1\n",
            "design: 1\n",
            "inspecting: 1\n",
            "handwritten: 1\n",
            "script: 1\n",
            "pedagogical: 1\n",
            "aaee: 1\n",
            "hybrid: 1\n",
            "elementaryage: 1\n",
            "convolutional: 1\n",
            "eight: 1\n",
            "timss: 1\n",
            "2019: 1\n",
            "graphical: 1\n",
            "childrens: 1\n",
            "mental: 1\n",
            "health: 1\n",
            "home: 1\n",
            "voice: 1\n",
            "device: 1\n",
            "feasibility: 1\n",
            "social: 1\n",
            "comparison: 1\n",
            "nudging: 1\n",
            "profiling: 1\n",
            "literacy: 1\n",
            "identify: 1\n",
            "need: 1\n",
            "impact: 1\n",
            "primary: 1\n",
            "systematic: 1\n",
            "literature: 1\n",
            "combining: 1\n",
            "factor: 1\n",
            "analytics: 1\n",
            "reflection: 1\n",
            "crowdsourcingbased: 1\n",
            "incremental: 1\n",
            "sednn: 1\n",
            "shared: 1\n",
            "crossprompt: 1\n",
            "geef: 1\n",
            "skill: 1\n",
            "critical: 1\n",
            "role: 1\n",
            "adaptation: 1\n",
            "selfregulated: 1\n",
            "spelling: 1\n",
            "highquality: 1\n",
            "perception: 1\n",
            "erevising: 1\n",
            "predictive: 1\n",
            "simpa: 1\n",
            "statementtoitem: 1\n",
            "matching: 1\n",
            "examination: 1\n",
            "estimating: 1\n",
            "global: 1\n",
            "probability: 1\n",
            "extraction: 1\n",
            "least: 1\n",
            "delicate: 1\n",
            "appraisal: 1\n",
            "engagement: 1\n",
            "contextualizing: 1\n",
            "specific: 1\n",
            "verb: 1\n",
            "construction: 1\n",
            "collegelevel: 1\n",
            "asian: 1\n",
            "acquisition: 1\n",
            "revolutionizing: 1\n",
            "threepronged: 1\n",
            "comprehensive: 1\n",
            "history: 1\n",
            "cahist: 1\n",
            "project: 1\n",
            "computational: 1\n",
            "historical: 1\n",
            "thinking: 1\n",
            "eliciting: 1\n",
            "requirement: 1\n",
            "stakeholder: 1\n",
            "topicdetection: 1\n",
            "computerized: 1\n",
            "constructed: 1\n",
            "distributional: 1\n",
            "crosslinguistic: 1\n",
            "influence: 1\n",
            "hinting: 1\n",
            "supporting: 1\n",
            "course: 1\n",
            "intelligenceenabled: 1\n",
            "lexical: 1\n",
            "syntactic: 1\n",
            "french: 1\n",
            "academic: 1\n",
            "mining: 1\n",
            "facilitating: 1\n",
            "selfdirected: 1\n",
            "reallife: 1\n",
            "scene: 1\n",
            "description: 1\n",
            "task: 1\n",
            "persuasive: 1\n",
            "selecting: 1\n",
            "element: 1\n",
            "persuade: 1\n",
            "10: 1\n",
            "custom: 1\n",
            "annotate: 1\n",
            "discoursefunctional: 1\n",
            "second: 1\n",
            "tutorial: 1\n",
            "teacher: 1\n",
            "talk: 1\n",
            "ela: 1\n",
            "classroom: 1\n",
            "enough: 1\n",
            "nlpbased: 1\n",
            "geospatial: 1\n",
            "augmenting: 1\n",
            "coding: 1\n",
            "ability: 1\n",
            "dna: 1\n",
            "behavior: 1\n",
            "navigating: 1\n",
            "frontier: 1\n",
            "science: 1\n",
            "advancing: 1\n",
            "augmentation: 1\n",
            "strategy: 1\n",
            "lexicalavailabilitybased: 1\n",
            "communication: 1\n",
            "identification: 1\n",
            "three: 1\n",
            "family: 1\n",
            "explainable: 1\n",
            "punctuation: 1\n",
            "restoration: 1\n",
            "portuguese: 1\n",
            "transformer: 1\n",
            "expert: 1\n",
            "tutor: 1\n",
            "reflective: 1\n",
            "marking: 1\n",
            "spoken: 1\n",
            "sample: 1\n",
            "back: 1\n",
            "grammatical: 1\n",
            "correction: 1\n",
            "speaking: 1\n",
            "pipeline: 1\n",
            "multilingual: 1\n",
            "readerbench: 1\n",
            "active: 1\n",
            "strategically: 1\n",
            "select: 1\n",
            "reliable: 1\n",
            "turkish: 1\n",
            "coherencebased: 1\n",
            "sentence: 1\n",
            "revising: 1\n",
            "opensource: 1\n",
            "metaanalysis: 1\n",
            "interrater: 1\n",
            "discrepancy: 1\n",
            "individual: 1\n",
            "anchoring: 1\n",
            "effective: 1\n",
            "coherence: 1\n",
            "capacity: 1\n",
            "aibased: 1\n",
            "illustration: 1\n",
            "limitation: 1\n",
            "humancomputer: 1\n",
            "quadratic: 1\n",
            "weighted: 1\n",
            "kappa: 1\n",
            "standard: 1\n",
            "metric: 1\n",
            "discussion: 1\n",
            "forum: 1\n",
            "keyword: 1\n",
            "integration: 1\n",
            "various: 1\n",
            "tenyear: 1\n",
            "benefit: 1\n",
            "alternative: 1\n",
            "young: 1\n",
            "trait: 1\n",
            "explanation: 1\n",
            "trust: 1\n",
            "motivation: 1\n",
            "multivariate: 1\n",
            "generalizability: 1\n",
            "erroranalysis: 1\n",
            "humancentric: 1\n",
            "ethical: 1\n",
            "reasoning: 1\n",
            "engine: 1\n",
            "manyfacet: 1\n",
            "rasch: 1\n",
            "measurement: 1\n",
            "summary: 1\n",
            "longformers: 1\n",
            "highly: 1\n",
            "informative: 1\n",
            "developing: 1\n",
            "generic: 1\n",
            "scorer: 1\n",
            "practice: 1\n",
            "transfer: 1\n",
            "finetuned: 1\n",
            "word: 1\n",
            "accuracy: 1\n",
            "bilevel: 1\n",
            "modelbased: 1\n",
            "constructedresponses: 1\n",
            "interpretation: 1\n",
            "black: 1\n",
            "box: 1\n",
            "determined: 1\n",
            "junior: 1\n",
            "senior: 1\n",
            "high: 1\n",
            "testing: 1\n",
            "process: 1\n",
            "creating: 1\n",
            "demonstration: 1\n",
            "two: 1\n",
            "equating: 1\n",
            "mixedformat: 1\n",
            "fair: 1\n",
            "equitable: 1\n",
            "factbased: 1\n",
            "erevise: 1\n",
            "construct: 1\n",
            "randomization: 1\n",
            "conventional: 1\n",
            "itemresponsetheorybased: 1\n",
            "decrease: 1\n",
            "rater: 1\n",
            "trained: 1\n",
            "ejaya: 1\n",
            "personalized: 1\n",
            "instruction: 1\n",
            "utility: 1\n",
            "wrightrightnow: 1\n",
            "platform: 1\n",
            "technical: 1\n",
            "report: 1\n",
            "2301: 1\n",
            "psychological: 1\n",
            "key: 1\n",
            "growth: 1\n",
            "teachergenerated: 1\n",
            "signal: 1\n",
            "weak: 1\n",
            "supervision: 1\n",
            "sourcebased: 1\n",
            "experience: 1\n",
            "eighthgrade: 1\n",
            "writer: 1\n",
            "autoscoring: 1\n",
            "image: 1\n",
            "mathematics: 1\n",
            "breakthrough: 1\n",
            "buncombe: 1\n",
            "ballyhoo: 1\n",
            "implementation: 1\n",
            "analyzing: 1\n",
            "association: 1\n",
            "state: 1\n",
            "grade: 1\n",
            "411: 1\n",
            "bridging: 1\n",
            "experimental: 1\n",
            "tip: 1\n",
            "lesson: 1\n",
            "learned: 1\n",
            "field: 1\n",
            "trial: 1\n"
          ]
        }
      ]
    },
    {
      "cell_type": "markdown",
      "source": [
        "**Insight Data**"
      ],
      "metadata": {
        "id": "Bof8zW_m7k8r"
      }
    },
    {
      "cell_type": "code",
      "source": [
        "# Menghitung jumlah total dokumen\n",
        "total_documents = filtered_data.shape[0]\n",
        "\n",
        "# Menghitung frekuensi kata\n",
        "all_tokens = [token for sublist in filtered_data['lemmatized_tokens'] for token in sublist]\n",
        "word_freq = Counter(all_tokens)\n",
        "\n",
        "# Menemukan kata paling sering muncul\n",
        "most_common_words = word_freq.most_common(5)  # 5 kata paling umum\n",
        "most_common_words_str = ', '.join([f\"{word}: {freq}\" for word, freq in most_common_words])\n",
        "\n",
        "# Menghitung total bobot TF-IDF untuk setiap kata\n",
        "total_tfidf = tfidf_df.sum(axis=0)\n",
        "\n",
        "# Menemukan kata dengan bobot TF-IDF tertinggi\n",
        "sorted_tfidf = total_tfidf.sort_values(ascending=False)\n",
        "top_tfidf_words = sorted_tfidf.head(5)  # 5 kata dengan bobot TF-IDF tertinggi\n",
        "top_tfidf_words_str = ', '.join([f\"{word}: {weight:.2f}\" for word, weight in top_tfidf_words.items()])\n",
        "\n",
        "# Visualisasi distribusi frekuensi kata\n",
        "top_n_words = word_freq.most_common(10)  # 10 kata teratas\n",
        "words, freqs = zip(*top_n_words)\n",
        "\n",
        "plt.figure(figsize=(10, 6))\n",
        "plt.bar(words, freqs, color='skyblue')\n",
        "plt.title('Distribusi Frekuensi Kata Teratas')\n",
        "plt.xlabel('Kata')\n",
        "plt.ylabel('Frekuensi')\n",
        "plt.xticks(rotation=45)\n",
        "plt.tight_layout()\n",
        "plt.show()\n",
        "\n",
        "# Mencetak semua insight\n",
        "print(f\"Jumlah total dokumen: {total_documents}\")\n",
        "print(f\"Kata paling sering muncul: {most_common_words_str}\")\n",
        "print(f\"Kata dengan bobot TF-IDF tertinggi: {top_tfidf_words_str}\")"
      ],
      "metadata": {
        "colab": {
          "base_uri": "https://localhost:8080/",
          "height": 662
        },
        "id": "d0i36jMQS2Mj",
        "outputId": "f9271853-c434-46a2-b944-a68f58ca970f"
      },
      "execution_count": null,
      "outputs": [
        {
          "output_type": "display_data",
          "data": {
            "text/plain": [
              "<Figure size 1000x600 with 1 Axes>"
            ],
            "image/png": "[encoded data removed]"
          },
          "metadata": {}
        },
        {
          "output_type": "stream",
          "name": "stdout",
          "text": [
            "Jumlah total dokumen: 118\n",
            "Kata paling sering muncul: automated: 63, essay: 54, scoring: 53, writing: 29, assessment: 27\n",
            "Kata dengan bobot TF-IDF tertinggi: automated: 9.29, scoring: 8.45, essay: 8.34, writing: 5.66, assessment: 5.42\n"
          ]
        }
      ]
    },
    {
      "cell_type": "markdown",
      "source": [
        "**Tahap NER / Named Entity Recognition**"
      ],
      "metadata": {
        "id": "ctU9pFwo7rBK"
      }
    },
    {
      "cell_type": "code",
      "source": [
        "# Memuat model spaCy\n",
        "nlp = spacy.load(\"en_core_web_sm\")\n",
        "\n",
        "# Menerapkan NER pada setiap judul dokumen\n",
        "results = []\n",
        "\n",
        "for index, row in filtered_data.iterrows():\n",
        "    doc = nlp(row['lemmatized_text'])  # Menggunakan teks yang telah dilemmatization\n",
        "    for ent in doc.ents:\n",
        "        results.append({\n",
        "            'Title': row['primary_title'],   # Judul dokumen\n",
        "            'Entity': ent.text,              # Teks entitas\n",
        "            'Label': ent.label_              # Label entitas\n",
        "        })\n",
        "\n",
        "# Membuat DataFrame dari hasil NER\n",
        "ner_df = pd.DataFrame(results)\n",
        "\n",
        "# Menampilkan hasil NER\n",
        "print(\"\\nHasil Named Entity Recognition (NER):\")\n",
        "print(ner_df)\n"
      ],
      "metadata": {
        "colab": {
          "base_uri": "https://localhost:8080/"
        },
        "id": "I2KktnsRYFNY",
        "outputId": "c77b68ec-837a-41e0-c3ad-efaa310f228a"
      },
      "execution_count": null,
      "outputs": [
        {
          "output_type": "stream",
          "name": "stderr",
          "text": [
            "/usr/local/lib/python3.11/dist-packages/spacy/util.py:1740: UserWarning: [W111] Jupyter notebook detected: if using `prefer_gpu()` or `require_gpu()`, include it in the same cell right before `spacy.load()` to ensure that the model is loaded on the correct device. More information: http://spacy.io/usage/v3#jupyter-notebook-gpu\n",
            "  warnings.warn(Warnings.W111)\n"
          ]
        },
        {
          "output_type": "stream",
          "name": "stdout",
          "text": [
            "\n",
            "Hasil Named Entity Recognition (NER):\n",
            "                                                Title  \\\n",
            "0   detecting chatgptgenerated essays in a largesc...   \n",
            "1   large language models and automated essay scor...   \n",
            "2   a multifaceted architecture to automate essay ...   \n",
            "3   an enhanced automatic arabic essay scoring sys...   \n",
            "4   nlp in smes for industry 40 opportunities and ...   \n",
            "5   msim multilevel semantic inference model for c...   \n",
            "6   a text gan framework for creative essay recomm...   \n",
            "7   arascore investigating responsebased arabic sh...   \n",
            "8   aaee automated evaluation of students essays i...   \n",
            "9   validity of automated essay scores for element...   \n",
            "10  using convolutional neural networks to automat...   \n",
            "11  using convolutional neural networks to automat...   \n",
            "12  simpa statementtoitem matching personality ass...   \n",
            "13  towards estimating global probabilities of eva...   \n",
            "14  elementary english learners engagement with au...   \n",
            "15  contextualizing automated writing evaluation a...   \n",
            "16  verb argument constructions in argumentative e...   \n",
            "17  verb argument constructions in argumentative e...   \n",
            "18  verb argument constructions in argumentative e...   \n",
            "19  insights from lexical and syntactic analyses o...   \n",
            "20  the persuasive essays for rating selecting and...   \n",
            "21  building custom nlp tools to annotate discours...   \n",
            "22          three families of automated text analysis   \n",
            "23  towards explainable automatic punctuation rest...   \n",
            "24  metaanalysis of interrater agreement and discr...   \n",
            "25  application of an automated essay scoring engi...   \n",
            "26  more efficient processes for creating automate...   \n",
            "27  automated students arabic essay scoring using ...   \n",
            "28  automated essay scoring exploring the utility ...   \n",
            "29  statewide implementation of automated writing ...   \n",
            "\n",
            "                         Entity     Label  \n",
            "0                       english      NORP  \n",
            "1                       english  LANGUAGE  \n",
            "2                       english      NORP  \n",
            "3                        arabic      NORP  \n",
            "4                            40  CARDINAL  \n",
            "5                       chinese      NORP  \n",
            "6   text gan framework creative    PERSON  \n",
            "7                        arabic      NORP  \n",
            "8                        arabic  LANGUAGE  \n",
            "9                       english  LANGUAGE  \n",
            "10                        eight  CARDINAL  \n",
            "11                         2019      DATE  \n",
            "12                        simpa       ORG  \n",
            "13                      english      NORP  \n",
            "14                      english      NORP  \n",
            "15                      english  LANGUAGE  \n",
            "16                        asian      NORP  \n",
            "17                      english      NORP  \n",
            "18                      english      NORP  \n",
            "19                       french      NORP  \n",
            "20                           10  CARDINAL  \n",
            "21                       second   ORDINAL  \n",
            "22                        three  CARDINAL  \n",
            "23                   portuguese      NORP  \n",
            "24                      english      NORP  \n",
            "25                      english      NORP  \n",
            "26                          two  CARDINAL  \n",
            "27                       arabic      NORP  \n",
            "28                         2301      DATE  \n",
            "29                          411  CARDINAL  \n"
          ]
        }
      ]
    }
  ]
}